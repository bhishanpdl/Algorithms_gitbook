{
  "nbformat": 4,
  "nbformat_minor": 0,
  "metadata": {
    "colab": {
      "name": "leetcode_july_2019.ipynb",
      "version": "0.3.2",
      "provenance": [],
      "collapsed_sections": [],
      "include_colab_link": true
    },
    "kernelspec": {
      "name": "python3",
      "display_name": "Python 3"
    }
  },
  "cells": [
    {
      "cell_type": "markdown",
      "metadata": {
        "id": "view-in-github",
        "colab_type": "text"
      },
      "source": [
        "<a href=\"https://colab.research.google.com/github/bhishanpdl/Leetcode/blob/master/string/string_easy/leetcode_string_1_2.ipynb\" target=\"_parent\"><img src=\"https://colab.research.google.com/assets/colab-badge.svg\" alt=\"Open In Colab\"/></a>"
      ]
    },
    {
      "cell_type": "markdown",
      "metadata": {
        "id": "LB6jqGOW64Dm",
        "colab_type": "text"
      },
      "source": [
        "# 1108. Defanging an IP Address\n",
        "Given a valid (IPv4) IP address, return a defanged version of that IP address.\n",
        "\n",
        "A defanged IP address replaces every period \".\" with \"[.]\".\n",
        "\n",
        "```\n",
        "Example 1:\n",
        "\n",
        "Input: address = \"1.1.1.1\"\n",
        "Output: \"1[.]1[.]1[.]1\"\n",
        "Example 2:\n",
        "\n",
        "Input: address = \"255.100.50.0\"\n",
        "Output: \"255[.]100[.]50[.]0\"\n",
        "  ```"
      ]
    },
    {
      "cell_type": "code",
      "metadata": {
        "id": "nRNckBG97-E7",
        "colab_type": "code",
        "colab": {}
      },
      "source": [
        "# 79, 100\n",
        "class Solution:\n",
        "    def defangIPaddr(self, address: str) -> str:\n",
        "        return \"[.]\".join(address.split('.'))"
      ],
      "execution_count": 0,
      "outputs": []
    },
    {
      "cell_type": "code",
      "metadata": {
        "id": "ppa2zT7O7NsF",
        "colab_type": "code",
        "colab": {
          "base_uri": "https://localhost:8080/",
          "height": 34
        },
        "outputId": "947d10b1-4fa0-4358-8554-1d8577b5816c"
      },
      "source": [
        "s = Solution()\n",
        "address = \"1.1.1.1\"\n",
        "\n",
        "s.defangIPaddr(address)"
      ],
      "execution_count": 9,
      "outputs": [
        {
          "output_type": "execute_result",
          "data": {
            "text/plain": [
              "'1[.]1[.]1[.]1'"
            ]
          },
          "metadata": {
            "tags": []
          },
          "execution_count": 9
        }
      ]
    },
    {
      "cell_type": "code",
      "metadata": {
        "id": "auTb5Jmy7KTb",
        "colab_type": "code",
        "colab": {}
      },
      "source": [
        "# 45,100\n",
        "class Solution:\n",
        "    def defangIPaddr(self, address: str) -> str:\n",
        "      return address.replace('.','[.]')"
      ],
      "execution_count": 0,
      "outputs": []
    },
    {
      "cell_type": "code",
      "metadata": {
        "id": "gGsOe2Xa76TM",
        "colab_type": "code",
        "colab": {
          "base_uri": "https://localhost:8080/",
          "height": 34
        },
        "outputId": "c9a3f487-d312-4461-8f6d-2d1f5fcbd660"
      },
      "source": [
        "s = Solution()\n",
        "address = \"1.1.1.1\"\n",
        "\n",
        "s.defangIPaddr(address)"
      ],
      "execution_count": 10,
      "outputs": [
        {
          "output_type": "execute_result",
          "data": {
            "text/plain": [
              "'1[.]1[.]1[.]1'"
            ]
          },
          "metadata": {
            "tags": []
          },
          "execution_count": 10
        }
      ]
    },
    {
      "cell_type": "code",
      "metadata": {
        "id": "Hdfhc9EG8lo1",
        "colab_type": "code",
        "colab": {}
      },
      "source": [
        "class Solution:\n",
        "    def defangIPaddr(self, address: str) -> str:\n",
        "        return ''.join([x if x != '.' else '[.]' for x in address])"
      ],
      "execution_count": 0,
      "outputs": []
    },
    {
      "cell_type": "code",
      "metadata": {
        "id": "kQ-Pg-js9m9r",
        "colab_type": "code",
        "colab": {
          "base_uri": "https://localhost:8080/",
          "height": 34
        },
        "outputId": "b09344d3-5c69-4307-fe66-4bac2dd75a37"
      },
      "source": [
        "s = Solution()\n",
        "address = \"1.1.1.1\"\n",
        "\n",
        "s.defangIPaddr(address)"
      ],
      "execution_count": 12,
      "outputs": [
        {
          "output_type": "execute_result",
          "data": {
            "text/plain": [
              "'1[.]1[.]1[.]1'"
            ]
          },
          "metadata": {
            "tags": []
          },
          "execution_count": 12
        }
      ]
    },
    {
      "cell_type": "markdown",
      "metadata": {
        "id": "JH0expQc9nqi",
        "colab_type": "text"
      },
      "source": [
        "# 709. To Lower Case"
      ]
    },
    {
      "cell_type": "code",
      "metadata": {
        "id": "_23AzkAq-4X1",
        "colab_type": "code",
        "colab": {
          "base_uri": "https://localhost:8080/",
          "height": 34
        },
        "outputId": "a82afe87-548c-4548-ae5c-eb49192a57ff"
      },
      "source": [
        "class Solution(object):\n",
        "    def toLowerCase(self, str):\n",
        "        \"\"\"\n",
        "        :type str: str\n",
        "        :rtype: str\n",
        "        \n",
        "        ord('A') = 65\n",
        "        ord('Z') = 90\n",
        "        \n",
        "        ord('a') = 97\n",
        "        ord('a') - ord('A') = 32\n",
        "        \"\"\"\n",
        "        stack = [ord(x) for x in str]\n",
        "        for i in range(len(stack)):\n",
        "            if stack[i] > 64 and stack[i] < 91:\n",
        "                stack[i] += 32\n",
        "        ans=[chr(x) for x in stack]\n",
        "        \n",
        "        return ''.join(ans)\n",
        "      \n",
        "s = Solution()\n",
        "str = \"Hello\"\n",
        "s.toLowerCase(str)"
      ],
      "execution_count": 14,
      "outputs": [
        {
          "output_type": "execute_result",
          "data": {
            "text/plain": [
              "'hello'"
            ]
          },
          "metadata": {
            "tags": []
          },
          "execution_count": 14
        }
      ]
    }
  ]
}